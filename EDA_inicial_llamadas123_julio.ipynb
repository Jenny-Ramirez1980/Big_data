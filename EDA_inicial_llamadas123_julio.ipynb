{
  "nbformat": 4,
  "nbformat_minor": 0,
  "metadata": {
    "colab": {
      "provenance": [],
      "mount_file_id": "149WnIzAi368niYAV4ktO8iS2uixPG89y",
      "authorship_tag": "ABX9TyPcmX1FLFd+KIzH75WVzHOJ",
      "include_colab_link": true
    },
    "kernelspec": {
      "name": "python3",
      "display_name": "Python 3"
    },
    "language_info": {
      "name": "python"
    }
  },
  "cells": [
    {
      "cell_type": "markdown",
      "metadata": {
        "id": "view-in-github",
        "colab_type": "text"
      },
      "source": [
        "<a href=\"https://colab.research.google.com/github/Jenny-Ramirez1980/Big_data/blob/main/EDA_inicial_llamadas123_julio.ipynb\" target=\"_parent\"><img src=\"https://colab.research.google.com/assets/colab-badge.svg\" alt=\"Open In Colab\"/></a>"
      ]
    },
    {
      "cell_type": "markdown",
      "source": [],
      "metadata": {
        "id": "QUFpYmn1U5y2"
      }
    },
    {
      "cell_type": "code",
      "source": [
        "!unzip \"/content/archive.zip\" -d \"/content/\""
      ],
      "metadata": {
        "id": "nvAXvXtjjk7_"
      },
      "execution_count": null,
      "outputs": []
    },
    {
      "cell_type": "code",
      "source": [
        "# PSEUCODIGO\n",
        "# main()\n",
        "#   datos = leer_datos(nombre del archivo : str) -> pd.dataframe\n",
        "#   datos_no_dup = remover_duplicados_y_nulos(datos: pd.dataframe) ->pd.dat\n",
        "#   datos = convertir_str_a_num(datos, col='EDAD') -> pd.dataframe\n",
        "#   datos = coregir_fechas(datos, col='FECHA1') -> pd.dataframe\n",
        "#   datos = coregir_fechas(datos, col='FECHA2') -> pd.dataframe\n",
        "#   save_data()\n",
        "\n",
        "import numpy as np\n",
        "import pandas as pd \n",
        "from pathlib import Path\n",
        "from dateutil.parser import parse\n",
        "import os"
      ],
      "metadata": {
        "id": "iFKMRXUFjuWY"
      },
      "execution_count": 1,
      "outputs": []
    },
    {
      "cell_type": "code",
      "source": [
        "root_dir = Path(\".\").resolve()\n",
        "filename = \"llamadas123_julio_2022.csv\""
      ],
      "metadata": {
        "id": "qg54wttSk7wo"
      },
      "execution_count": 2,
      "outputs": []
    },
    {
      "cell_type": "code",
      "source": [
        "def leer_datos(filename):\n",
        "    data_dir = 'raw'\n",
        "    file_path = os.path.join(root_dir, \"data\", data_dir, filename) #Le digo ruta del archivo, encuentro la base que necesito\n",
        "    datos = pd.read_csv(file_path, encoding='latin-1', sep=';')\n",
        "    print('get_data')\n",
        "    print('La tabla contiene', datos.shape[0], 'filas', datos.shape[1], 'columnas')\n",
        "    return datos"
      ],
      "metadata": {
        "id": "6IWnlPmZlFP_"
      },
      "execution_count": 3,
      "outputs": []
    },
    {
      "cell_type": "code",
      "source": [
        "# busco duplicados y nulos de la tabla\n",
        "\n",
        "def renovar_duplicados_y_nulos(datos):\n",
        "    data = datos.drop_duplicates()\n",
        "    data.reset_index(inplace=True, drop=True)\n",
        "    col = \"UNIDAD\"\n",
        "    data[col].fillna(\"SIN_DATO\", inplace=True)\n",
        "    data[col].value_counts(dropna=False, normalize=True)\n",
        "    col = \"EDAD\"\n",
        "    data[col].fillna(\"SIN_DATO\", inplace=True)\n",
        "    data[col].value_counts(dropna=False, normalize=True)\n",
        "    data[col].replace({\"SIN_DATO\": np.nan}, inplace=True)\n",
        "    data[col]\n",
        "    return data"
      ],
      "metadata": {
        "id": "hOSNE8ValPEF"
      },
      "execution_count": 7,
      "outputs": []
    },
    {
      "cell_type": "code",
      "source": [
        "def convetir_str_a_num(data, col=\"EDAD\"):\n",
        "    f = lambda x: x if pd.isna(x) else int(x) \n",
        "    data[col] = data[col].apply(f)\n",
        "    data.info()\n",
        "    \n",
        "    return data"
      ],
      "metadata": {
        "id": "fmUFNi3klk7v"
      },
      "execution_count": 8,
      "outputs": []
    },
    {
      "cell_type": "code",
      "source": [
        "def corregir_fecha(data, col = \"FECHA1\"):\n",
        "    col = \"FECHA_INICIO_DESPLAZAMIENTO_MOVIL\"\n",
        "    data[col] = pd.to_datetime(data[col], errors = \"coerce\")\n",
        "    data.info()\n",
        "    fecha = \"1985-02-30 00:00:00\"\n",
        "    pd.to_datetime(fecha, errors = \"coerce\", format = \"%Y/%m/%d\")\n",
        "    col = \"RECEPCION\"\n",
        "    data[col]\n",
        "    list_fechas = list()\n",
        "    for fecha in data[col]:\n",
        "        try:\n",
        "            new_fecha = parse(fecha)\n",
        "        except Exception as e:        \n",
        "            new_fecha = pd.to_datetime(fecha, errors=\"coerce\") # el error es este el print muestra pero se reemplaza con new_fecha\n",
        "            list_fechas.append(new_fecha)\n",
        "            list_fechas\n",
        "            data[\"RECEPCION_Carr\"] = list_fechas\n",
        "            data.head()"
      ],
      "metadata": {
        "id": "KL4czCJEl4He"
      },
      "execution_count": 9,
      "outputs": []
    },
    {
      "cell_type": "code",
      "source": [
        "def generate_report(data):\n",
        "    dict_resumen = dict()  # Crear un diccionario vacio\n",
        "    for col in data.columns:\n",
        "        valores_unicos = data[col].unique()\n",
        "        n_valores = len(valores_unicos)\n",
        "        dict_resumen[col] = n_valores            \n",
        "\n",
        "    reporte = pd.DataFrame.from_dict(dict_resumen, orient='index') \n",
        "    reporte.rename({0: 'Count'}, axis=1, inplace=True) # axis 1 buscar en la columna, 0 en las filas\n",
        "    \n",
        "    print('generate_report')\n",
        "    print(reporte.head())\n",
        "    return reporte"
      ],
      "metadata": {
        "id": "9-6CK4rBl-bG"
      },
      "execution_count": 10,
      "outputs": []
    },
    {
      "cell_type": "code",
      "source": [
        "def save_data(reporte, filename): # Guardar tabla\n",
        "    out_name = 'Limpieza1_' + filename # Indicar nombre al archivo de salida\n",
        "    out_path = os.path.join(root_dir, 'data', 'processed', out_name)\n",
        "    reporte.to_csv(out_path, sep=';')"
      ],
      "metadata": {
        "id": "3HhG0COJmDoS"
      },
      "execution_count": 11,
      "outputs": []
    },
    {
      "cell_type": "code",
      "source": [
        "def main():\n",
        "\n",
        "    filename = \"llamadas123_julio_2022.csv\"\n",
        "    datos = leer_datos(filename)\n",
        "    save_data(datos, filename)\n",
        "    print('TERMINE')\n",
        "\n",
        "    if __name__ == \"__main__\":\n",
        "       main()\n",
        "\n",
        "\n"
      ],
      "metadata": {
        "id": "gVJ2Z_e-mYgq"
      },
      "execution_count": 22,
      "outputs": []
    }
  ]
}